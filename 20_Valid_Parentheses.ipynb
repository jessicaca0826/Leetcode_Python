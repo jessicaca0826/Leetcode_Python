{
  "nbformat": 4,
  "nbformat_minor": 0,
  "metadata": {
    "colab": {
      "provenance": [],
      "authorship_tag": "ABX9TyOKHVIaAqGnxsp644UoyiM6",
      "include_colab_link": true
    },
    "kernelspec": {
      "name": "python3",
      "display_name": "Python 3"
    },
    "language_info": {
      "name": "python"
    }
  },
  "cells": [
    {
      "cell_type": "markdown",
      "metadata": {
        "id": "view-in-github",
        "colab_type": "text"
      },
      "source": [
        "<a href=\"https://colab.research.google.com/github/jessicaca0826/Leetcode_Python/blob/main/20_Valid_Parentheses.ipynb\" target=\"_parent\"><img src=\"https://colab.research.google.com/assets/colab-badge.svg\" alt=\"Open In Colab\"/></a>"
      ]
    },
    {
      "cell_type": "markdown",
      "source": [
        "Given a string s containing just the characters '(', ')', '{', '}', '[' and ']', determine if the input string is valid.\n",
        "\n",
        "An input string is valid if:\n",
        "\n",
        "Open brackets must be closed by the same type of brackets.\n",
        "\n",
        "Open brackets must be closed in the correct order.\n",
        "\n",
        "Every close bracket has a corresponding open bracket of the same type.\n",
        "\n",
        "Example 1:\n",
        "\n",
        "Input: s = \"()\"\n",
        "\n",
        "Output: true\n",
        "\n",
        "Example 2:\n",
        "\n",
        "Input: s = \"()[]{}\"\n",
        "\n",
        "Output: true\n",
        "\n",
        "Example 3:\n",
        "\n",
        "Input: s = \"(]\"\n",
        "\n",
        "Output: false\n",
        "\n",
        "Example 4:\n",
        "\n",
        "Input: s = \"([])\"\n",
        "\n",
        "Output: true"
      ],
      "metadata": {
        "id": "175CHq7IBVvv"
      }
    },
    {
      "cell_type": "code",
      "execution_count": 1,
      "metadata": {
        "colab": {
          "base_uri": "https://localhost:8080/"
        },
        "id": "cMvsGlR4BS2R",
        "outputId": "032c0e0a-703c-4c7c-eba9-ffde9c4ffb21"
      },
      "outputs": [
        {
          "output_type": "stream",
          "name": "stdout",
          "text": [
            "True\n"
          ]
        }
      ],
      "source": [
        "def isValid(s):\n",
        "  if not s or len(s)%2>0:\n",
        "    return False\n",
        "  pair_parentheses={'}':'{',']':'[',')':'('}\n",
        "  visited=[]\n",
        "  for i in s:\n",
        "    if i in pair_parentheses:\n",
        "      if not visited or pair_parentheses[i]!=visited.pop():\n",
        "        return False\n",
        "    else:\n",
        "      visited.append(i)\n",
        "  return not visited\n",
        "\n",
        "s = \"([])\"\n",
        "print(isValid(s))\n",
        "\n",
        "# time complexity: O(n)\n",
        "# space complexity: O(n)\n"
      ]
    },
    {
      "cell_type": "code",
      "source": [
        "def isPair(cur, last):\n",
        "  return (cur==')' and last=='(') or (cur==']' and last=='[') or (cur=='}' and last=='{')\n",
        "\n",
        "def isValid(s):\n",
        "  if not s or len(s)%2>0:\n",
        "    return False\n",
        "\n",
        "  visited=[]\n",
        "  for char in s:\n",
        "    if visited:\n",
        "      last=visited[-1]\n",
        "      if isPair(char,last):\n",
        "        visited.pop()\n",
        "        continue\n",
        "    visited.append(char)\n",
        "  return not visited\n",
        "\n",
        "s = \"([])\"\n",
        "print(isValid(s))"
      ],
      "metadata": {
        "colab": {
          "base_uri": "https://localhost:8080/"
        },
        "id": "oxUPzf61IgG2",
        "outputId": "61309334-656d-47f5-b024-0402d2f29482"
      },
      "execution_count": 2,
      "outputs": [
        {
          "output_type": "stream",
          "name": "stdout",
          "text": [
            "True\n"
          ]
        }
      ]
    }
  ]
}