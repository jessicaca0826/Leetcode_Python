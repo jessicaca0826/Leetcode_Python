{
  "nbformat": 4,
  "nbformat_minor": 0,
  "metadata": {
    "colab": {
      "provenance": [],
      "authorship_tag": "ABX9TyNkkrVZI+m4fUTC4Zp3yZlC",
      "include_colab_link": true
    },
    "kernelspec": {
      "name": "python3",
      "display_name": "Python 3"
    },
    "language_info": {
      "name": "python"
    }
  },
  "cells": [
    {
      "cell_type": "markdown",
      "metadata": {
        "id": "view-in-github",
        "colab_type": "text"
      },
      "source": [
        "<a href=\"https://colab.research.google.com/github/jessicaca0826/Leetcode_Python/blob/main/26_Remove_Duplicates_from_Sorted_Array.ipynb\" target=\"_parent\"><img src=\"https://colab.research.google.com/assets/colab-badge.svg\" alt=\"Open In Colab\"/></a>"
      ]
    },
    {
      "cell_type": "markdown",
      "source": [
        "Given an integer array nums sorted in non-decreasing order, remove the duplicates in-place such that each unique element appears only once. The relative order of the elements should be kept the same.\n",
        "\n",
        "Then return the number of unique elements in nums.\n",
        "\n",
        "Consider the number of unique elements of nums to be k, to get accepted, you need to do the following things:\n",
        "\n",
        "Change the array nums such that the first k elements of nums contain the unique elements in the order they were present in nums initially. The remaining elements of nums are not important as well as the size of nums.\n",
        "\n",
        "Return k.\n",
        "\n",
        "Custom Judge:\n",
        "\n",
        "The judge will test your solution with the following code:\n",
        "\n",
        "int[] nums = [...]; // Input array\n",
        "\n",
        "int[] expectedNums = [...]; // The expected answer with correct length\n",
        "\n",
        "int k = removeDuplicates(nums); // Calls your implementation\n",
        "\n",
        "assert k == expectedNums.length;\n",
        "\n",
        "```\n",
        "for (int i = 0; i < k; i++) {\n",
        "  \n",
        "    assert nums[i] == expectedNums[i];\n",
        "\n",
        "}\n",
        "```\n",
        "\n",
        "If all assertions pass, then your solution will be accepted.\n",
        "\n",
        "\n",
        "\n",
        "Example 1:\n",
        "\n",
        "Input: nums = [1,1,2]\n",
        "\n",
        "Output: 2, nums = [1,2,_]\n",
        "\n",
        "Explanation: Your function should return k = 2, with the first two elements of nums being 1 and 2 respectively.\n",
        "\n",
        "It does not matter what you leave beyond the returned k (hence they are underscores).\n",
        "\n",
        "Example 2:\n",
        "\n",
        "Input: nums = [0,0,1,1,1,2,2,3,3,4]\n",
        "\n",
        "Output: 5, nums = [0,1,2,3,4,_,_,_,_,_]\n",
        "\n",
        "Explanation: Your function should return k = 5, with the first five elements of nums being 0, 1, 2, 3, and 4 respectively.\n",
        "\n",
        "It does not matter what you leave beyond the returned k (hence they are underscores)."
      ],
      "metadata": {
        "id": "07JruNCPV1GK"
      }
    },
    {
      "cell_type": "code",
      "execution_count": null,
      "metadata": {
        "id": "fPoSpcyYVts9"
      },
      "outputs": [],
      "source": [
        "def removeDuplicates(nums):\n",
        "  visited=[]\n",
        "  remove=[]\n",
        "  for num in nums:\n",
        "    if num in visited:\n",
        "      remove.append(num)\n",
        "      continue\n",
        "    visited.append(num)\n",
        "  for num in remove:\n",
        "    nums.remove(num)\n",
        "  return len(nums)\n",
        "\n",
        "# time complexity: O(n^2)\n",
        "# space complexity: O(n)"
      ]
    },
    {
      "cell_type": "code",
      "source": [
        "def removeDuplicates(nums):\n",
        "  if not nums:\n",
        "    return 0\n",
        "\n",
        "  point=1\n",
        "  for i in range(1,len(nums)):\n",
        "    if nums[i]!=nums[point-1]:\n",
        "      nums[point]=nums[i]\n",
        "      point+=1\n",
        "  return point\n",
        "\n",
        "nums=[0,0,1,1,1,2,2,3,3,4]\n",
        "print(removeDuplicates(nums))\n",
        "\n",
        "# time complexity: O(n)\n",
        "# space complexity: O(1)"
      ],
      "metadata": {
        "colab": {
          "base_uri": "https://localhost:8080/"
        },
        "id": "i7E9Qvu0bWei",
        "outputId": "545df46e-3f9a-47cb-b729-6b762e741cef"
      },
      "execution_count": 3,
      "outputs": [
        {
          "output_type": "stream",
          "name": "stdout",
          "text": [
            "5\n"
          ]
        }
      ]
    }
  ]
}