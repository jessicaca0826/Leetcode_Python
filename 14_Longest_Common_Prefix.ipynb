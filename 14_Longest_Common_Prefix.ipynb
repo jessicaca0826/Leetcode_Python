{
  "nbformat": 4,
  "nbformat_minor": 0,
  "metadata": {
    "colab": {
      "provenance": [],
      "authorship_tag": "ABX9TyMTVqA/SlhqtpV+HQj6b1bU",
      "include_colab_link": true
    },
    "kernelspec": {
      "name": "python3",
      "display_name": "Python 3"
    },
    "language_info": {
      "name": "python"
    }
  },
  "cells": [
    {
      "cell_type": "markdown",
      "metadata": {
        "id": "view-in-github",
        "colab_type": "text"
      },
      "source": [
        "<a href=\"https://colab.research.google.com/github/jessicaca0826/Leetcode_Python/blob/main/14_Longest_Common_Prefix.ipynb\" target=\"_parent\"><img src=\"https://colab.research.google.com/assets/colab-badge.svg\" alt=\"Open In Colab\"/></a>"
      ]
    },
    {
      "cell_type": "code",
      "execution_count": 6,
      "metadata": {
        "colab": {
          "base_uri": "https://localhost:8080/"
        },
        "id": "fYcCMvvliUQi",
        "outputId": "1e0f4645-20f7-450d-9ad7-d6af0b2d30f5"
      },
      "outputs": [
        {
          "output_type": "stream",
          "name": "stdout",
          "text": [
            "longestCommonPrefix: fl\n",
            "longestCommonPrefix: \n"
          ]
        }
      ],
      "source": [
        "def longestCommonPrefix(strs):\n",
        "  result=''\n",
        "  for i in zip(*strs):\n",
        "    if len(set(i))>1:\n",
        "      break\n",
        "    else:\n",
        "      result+=i[0]\n",
        "  return result\n",
        "\n",
        "strs=[\"flower\",\"flow\",\"flight\"]\n",
        "print('longestCommonPrefix:',longestCommonPrefix(strs))\n",
        "strs=[\"dog\",\"racecar\",\"car\"]\n",
        "print('longestCommonPrefix:',longestCommonPrefix(strs))"
      ]
    }
  ]
}