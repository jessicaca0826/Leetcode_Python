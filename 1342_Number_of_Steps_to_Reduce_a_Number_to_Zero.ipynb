{
  "nbformat": 4,
  "nbformat_minor": 0,
  "metadata": {
    "colab": {
      "provenance": [],
      "authorship_tag": "ABX9TyPfxk02SGsaV0xW9mqMzKCY",
      "include_colab_link": true
    },
    "kernelspec": {
      "name": "python3",
      "display_name": "Python 3"
    },
    "language_info": {
      "name": "python"
    }
  },
  "cells": [
    {
      "cell_type": "markdown",
      "metadata": {
        "id": "view-in-github",
        "colab_type": "text"
      },
      "source": [
        "<a href=\"https://colab.research.google.com/github/jessicaca0826/Leetcode_Python/blob/main/1342_Number_of_Steps_to_Reduce_a_Number_to_Zero.ipynb\" target=\"_parent\"><img src=\"https://colab.research.google.com/assets/colab-badge.svg\" alt=\"Open In Colab\"/></a>"
      ]
    },
    {
      "cell_type": "markdown",
      "source": [
        "Given an integer num, return the number of steps to reduce it to zero.\n",
        "\n",
        "In one step, if the current number is even, you have to divide it by 2,\n",
        "\n",
        "otherwise, you have to subtract 1 from it.\n",
        "\n",
        "Example 1:\n",
        "\n",
        "Input: num = 14\n",
        "\n",
        "Output: 6\n",
        "\n",
        "Explanation:\n",
        "\n",
        "Step 1: 14 is even; divide by 2 and obtain 7.\n",
        "\n",
        "Step 2: 7 is odd; subtract 1 and obtain 6.\n",
        "\n",
        "Step 3: 6 is even; divide by 2 and obtain 3.\n",
        "\n",
        "Step 4: 3 is odd; subtract 1 and obtain 2.\n",
        "\n",
        "Step 5: 2 is even; divide by 2 and obtain 1.\n",
        "\n",
        "Step 6: 1 is odd; subtract 1 and obtain 0.\n",
        "\n",
        "Example 2:\n",
        "\n",
        "Input: num = 8\n",
        "\n",
        "Output: 4\n",
        "\n",
        "Explanation:\n",
        "\n",
        "Step 1: 8 is even; divide by 2 and obtain 4.\n",
        "\n",
        "Step 2: 4 is even; divide by 2 and obtain 2.\n",
        "\n",
        "Step 3: 2 is even; divide by 2 and obtain 1.\n",
        "\n",
        "Step 4: 1 is odd; subtract 1 and obtain 0.\n",
        "\n",
        "Example 3:\n",
        "\n",
        "Input: num = 123\n",
        "\n",
        "Output: 12"
      ],
      "metadata": {
        "id": "PnqrWKvvJYg8"
      }
    },
    {
      "cell_type": "code",
      "source": [
        "# sol 1\n",
        "def numberOfSteps(num):\n",
        "  step=0\n",
        "  while num>0:\n",
        "    if num%2==0:\n",
        "      num/=2\n",
        "    else:\n",
        "      num-=1\n",
        "    step+=1\n",
        "  return step\n",
        "\n",
        "print(numberOfSteps(14))\n",
        "print(numberOfSteps(8))\n",
        "print(numberOfSteps(123))"
      ],
      "metadata": {
        "colab": {
          "base_uri": "https://localhost:8080/"
        },
        "id": "w_X4HJGNJ2ck",
        "outputId": "3f324382-e66f-4898-9cce-cd103df46252"
      },
      "execution_count": null,
      "outputs": [
        {
          "output_type": "stream",
          "name": "stdout",
          "text": [
            "6\n",
            "4\n",
            "12\n"
          ]
        }
      ]
    },
    {
      "cell_type": "code",
      "source": [
        "# sol 2: bitwise approach\n",
        "def numberOfSteps(num):\n",
        "  step=0\n",
        "  while num>0:\n",
        "    if (num&1==0):\n",
        "      num>>=1\n",
        "    else:\n",
        "      num^=1\n",
        "    step+=1\n",
        "  return step\n",
        "\n",
        "print(numberOfSteps(14))\n",
        "print(numberOfSteps(8))\n",
        "print(numberOfSteps(123))"
      ],
      "metadata": {
        "colab": {
          "base_uri": "https://localhost:8080/"
        },
        "id": "QJdV5b-QKlh_",
        "outputId": "4ae3ceda-d5c0-45ea-e5dd-53d623a2f58d"
      },
      "execution_count": null,
      "outputs": [
        {
          "output_type": "stream",
          "name": "stdout",
          "text": [
            "6\n",
            "4\n",
            "12\n"
          ]
        }
      ]
    },
    {
      "cell_type": "code",
      "source": [
        "# sol 3\n",
        "def numberOfSteps(num):\n",
        "  if num==0:\n",
        "    return 0\n",
        "  else:\n",
        "   return 1+numberOfSteps(num>>1 if num&1==0 else num^1)\n",
        "\n",
        "print(numberOfSteps(14))\n",
        "print(numberOfSteps(8))\n",
        "print(numberOfSteps(123))"
      ],
      "metadata": {
        "colab": {
          "base_uri": "https://localhost:8080/"
        },
        "id": "ZCI6SC-QMQez",
        "outputId": "408a4d53-76c5-490e-ecb3-565893859be2"
      },
      "execution_count": null,
      "outputs": [
        {
          "output_type": "stream",
          "name": "stdout",
          "text": [
            "6\n",
            "4\n",
            "12\n"
          ]
        }
      ]
    },
    {
      "cell_type": "code",
      "source": [
        "# sol 4\n",
        "def numberOfSteps(num):\n",
        "  return num.bit_length()-1+num.bit_count()\n",
        "print(numberOfSteps(14))\n",
        "print(numberOfSteps(8))\n",
        "print(numberOfSteps(123))"
      ],
      "metadata": {
        "colab": {
          "base_uri": "https://localhost:8080/"
        },
        "id": "PXKDYWfFrRM6",
        "outputId": "dfebb511-a4fc-4912-f918-f01f930b29a8"
      },
      "execution_count": 1,
      "outputs": [
        {
          "output_type": "stream",
          "name": "stdout",
          "text": [
            "6\n",
            "4\n",
            "12\n"
          ]
        }
      ]
    }
  ]
}