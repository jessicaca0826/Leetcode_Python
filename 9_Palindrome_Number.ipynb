{
  "nbformat": 4,
  "nbformat_minor": 0,
  "metadata": {
    "colab": {
      "provenance": [],
      "authorship_tag": "ABX9TyP53986hKu1sj8ex2j82s15",
      "include_colab_link": true
    },
    "kernelspec": {
      "name": "python3",
      "display_name": "Python 3"
    },
    "language_info": {
      "name": "python"
    }
  },
  "cells": [
    {
      "cell_type": "markdown",
      "metadata": {
        "id": "view-in-github",
        "colab_type": "text"
      },
      "source": [
        "<a href=\"https://colab.research.google.com/github/jessicaca0826/Leetcode_Python/blob/main/9_Palindrome_Number.ipynb\" target=\"_parent\"><img src=\"https://colab.research.google.com/assets/colab-badge.svg\" alt=\"Open In Colab\"/></a>"
      ]
    },
    {
      "cell_type": "markdown",
      "source": [
        "Given an integer x, return true if x is a palindrome, and false otherwise.\n",
        "\n",
        "Example 1:\n",
        "\n",
        "Input: x = 121\n",
        "\n",
        "Output: true\n",
        "\n",
        "Example 2:\n",
        "\n",
        "Input: x = -121\n",
        "\n",
        "Output: false\n",
        "\n",
        "Example 3:\n",
        "\n",
        "Input: x = 10\n",
        "\n",
        "Output: false\n"
      ],
      "metadata": {
        "id": "wTMDyY2aoDWg"
      }
    },
    {
      "cell_type": "code",
      "execution_count": null,
      "metadata": {
        "id": "UGn87SlLn3Bg",
        "colab": {
          "base_uri": "https://localhost:8080/"
        },
        "outputId": "5be46796-4a95-4bcf-cd82-63e2d77b9de8"
      },
      "outputs": [
        {
          "output_type": "stream",
          "name": "stdout",
          "text": [
            "True\n",
            "False\n",
            "False\n"
          ]
        }
      ],
      "source": [
        "#sol 1\n",
        "def isPalindrome(x):\n",
        "  return str(x)==str(x)[::-1]\n",
        "\n",
        "x=[121,-121,10]\n",
        "\n",
        "for n in x:\n",
        "  print(isPalindrome(n))\n"
      ]
    },
    {
      "cell_type": "code",
      "source": [
        "#sol 2\n",
        "def isPalindrome(x):\n",
        "  if x<0:\n",
        "    return False\n",
        "  else:\n",
        "    s=str(x)\n",
        "    if s[:len(s)//2]!=s[-1:-(len(s)//2)-1:-1]:\n",
        "      return False\n",
        "    else:\n",
        "      return True\n",
        "\n",
        "\n",
        "x=[121,-121,10]\n",
        "\n",
        "for n in x:\n",
        "  print(isPalindrome(n))"
      ],
      "metadata": {
        "colab": {
          "base_uri": "https://localhost:8080/"
        },
        "id": "HbPt7KRnEnzf",
        "outputId": "e304f445-a548-450a-dcc1-60291a3f7193"
      },
      "execution_count": null,
      "outputs": [
        {
          "output_type": "stream",
          "name": "stdout",
          "text": [
            "True\n",
            "False\n",
            "False\n"
          ]
        }
      ]
    },
    {
      "cell_type": "code",
      "source": [
        "#sol 3\n",
        "def isPalindrome(x):\n",
        "  if x<0:\n",
        "    return False\n",
        "\n",
        "  original, reversed_num=x, 0\n",
        "  while x>0:\n",
        "    reversed_num=reversed_num*10+x%10\n",
        "    x//=10\n",
        "  return original==reversed_num\n",
        "\n",
        "x=[121,-121,10]\n",
        "\n",
        "for n in x:\n",
        "  print(isPalindrome(n))\n",
        "\n",
        "# time complexity: O(logx)\n",
        "# space complexity: O(1)"
      ],
      "metadata": {
        "colab": {
          "base_uri": "https://localhost:8080/"
        },
        "id": "4NHU6zhfUYbx",
        "outputId": "5befb86b-0708-418e-f5a2-ec1569da2404"
      },
      "execution_count": null,
      "outputs": [
        {
          "output_type": "stream",
          "name": "stdout",
          "text": [
            "True\n",
            "False\n",
            "False\n"
          ]
        }
      ]
    },
    {
      "cell_type": "code",
      "source": [
        "#sol 4\n",
        "def isPalindrome(x):\n",
        "  if x<0 or (x>0 and x%10==0):\n",
        "    return False\n",
        "  revX=0\n",
        "  while x>revX:\n",
        "    revX=revX*10+x%10\n",
        "    x//=10\n",
        "  return x==revX or x==revX//10\n",
        "\n",
        "x=[121,-121,10]\n",
        "\n",
        "for n in x:\n",
        "  print(isPalindrome(n))"
      ],
      "metadata": {
        "colab": {
          "base_uri": "https://localhost:8080/"
        },
        "id": "eLKeTI1XZJr5",
        "outputId": "5d4c71fb-2e2e-418e-a069-8f9b317925a6"
      },
      "execution_count": null,
      "outputs": [
        {
          "output_type": "stream",
          "name": "stdout",
          "text": [
            "True\n",
            "False\n",
            "False\n"
          ]
        }
      ]
    }
  ]
}