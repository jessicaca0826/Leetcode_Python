{
  "nbformat": 4,
  "nbformat_minor": 0,
  "metadata": {
    "colab": {
      "provenance": [],
      "authorship_tag": "ABX9TyOyBvZitn14C+7FjlmRW2KD",
      "include_colab_link": true
    },
    "kernelspec": {
      "name": "python3",
      "display_name": "Python 3"
    },
    "language_info": {
      "name": "python"
    }
  },
  "cells": [
    {
      "cell_type": "markdown",
      "metadata": {
        "id": "view-in-github",
        "colab_type": "text"
      },
      "source": [
        "<a href=\"https://colab.research.google.com/github/jessicaca0826/Leetcode_Python/blob/main/13_Roman_to_Integer.ipynb\" target=\"_parent\"><img src=\"https://colab.research.google.com/assets/colab-badge.svg\" alt=\"Open In Colab\"/></a>"
      ]
    },
    {
      "cell_type": "markdown",
      "source": [
        "Roman numerals are represented by seven different symbols: I, V, X, L, C, D and M.\n",
        "\n",
        "Symbol       Value\n",
        "\n",
        "I             1\n",
        "\n",
        "V             5\n",
        "\n",
        "X             10\n",
        "\n",
        "L             50\n",
        "\n",
        "C             100\n",
        "\n",
        "D             500\n",
        "\n",
        "M             1000\n",
        "\n",
        "For example, 2 is written as II in Roman numeral, just two ones added together.\n",
        "\n",
        "12 is written as XII, which is simply X + II. The number 27 is written as\n",
        "\n",
        "XXVII, which is XX + V + II.\n",
        "\n",
        "Roman numerals are usually written largest to smallest from left to right.\n",
        "\n",
        "However, the numeral for four is not IIII. Instead, the number four is written\n",
        "\n",
        "as IV. Because the one is before the five we subtract it making four. The same\n",
        "\n",
        "principle applies to the number nine, which is written as IX. There are six\n",
        "\n",
        "instances where subtraction is used:\n",
        "\n",
        "I can be placed before V (5) and X (10) to make 4 and 9.\n",
        "\n",
        "X can be placed before L (50) and C (100) to make 40 and 90.\n",
        "\n",
        "C can be placed before D (500) and M (1000) to make 400 and 900.\n",
        "\n",
        "Given a roman numeral, convert it to an integer.\n",
        "\n",
        "Example 1:\n",
        "\n",
        "Input: s = \"III\"\n",
        "\n",
        "Output: 3\n",
        "\n",
        "Explanation: III = 3.\n",
        "\n",
        "Example 2:\n",
        "\n",
        "Input: s = \"LVIII\"\n",
        "\n",
        "Output: 58\n",
        "\n",
        "Explanation: L = 50, V= 5, III = 3.\n",
        "\n",
        "Example 3:\n",
        "\n",
        "Input: s = \"MCMXCIV\"\n",
        "\n",
        "Output: 1994\n",
        "\n",
        "Explanation: M = 1000, CM = 900, XC = 90 and IV = 4."
      ],
      "metadata": {
        "id": "poPO_FKWKmyM"
      }
    },
    {
      "cell_type": "code",
      "execution_count": 4,
      "metadata": {
        "colab": {
          "base_uri": "https://localhost:8080/"
        },
        "id": "_zNYUTuXIJsP",
        "outputId": "973af937-1143-4e21-b7af-8f7fb66cd1d1"
      },
      "outputs": [
        {
          "output_type": "stream",
          "name": "stdout",
          "text": [
            "3\n",
            "58\n",
            "1994\n"
          ]
        }
      ],
      "source": [
        "def romanToInt(s):\n",
        "  roman_dict={'I':1, 'V':5, 'X':10, 'L':50, 'C':100, 'D':500, 'M':1000}\n",
        "  total=0\n",
        "  last=0\n",
        "  for i in s[::-1]:\n",
        "    if roman_dict[i]>=last:\n",
        "      total+=roman_dict[i]\n",
        "    else:\n",
        "      total-=roman_dict[i]\n",
        "    last=roman_dict[i]\n",
        "  return total\n",
        "\n",
        "print(romanToInt(\"III\"))\n",
        "print(romanToInt(\"LVIII\"))\n",
        "print(romanToInt(\"MCMXCIV\"))"
      ]
    },
    {
      "cell_type": "code",
      "source": [
        "def romanToInt(s):\n",
        "  roman_dict={'I':1, 'V':5, 'X':10, 'L':50, 'C':100, 'D':500, 'M':1000}\n",
        "  total=0\n",
        "  for i,j in zip(s,s[1:]):\n",
        "    if roman_dict[i]>=roman_dict[j]:\n",
        "      total+=roman_dict[i]\n",
        "    else:\n",
        "      total-=roman_dict[i]\n",
        "  return total+roman_dict[s[-1]]\n",
        "\n",
        "print(romanToInt(\"III\"))\n",
        "print(romanToInt(\"LVIII\"))\n",
        "print(romanToInt(\"MCMXCIV\"))"
      ],
      "metadata": {
        "colab": {
          "base_uri": "https://localhost:8080/"
        },
        "id": "0MAV7yyvP8jN",
        "outputId": "1d85239a-29b3-4376-aeb4-3cc0111e0068"
      },
      "execution_count": 5,
      "outputs": [
        {
          "output_type": "stream",
          "name": "stdout",
          "text": [
            "3\n",
            "58\n",
            "1994\n"
          ]
        }
      ]
    }
  ]
}