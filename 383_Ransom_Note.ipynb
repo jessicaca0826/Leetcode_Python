{
  "nbformat": 4,
  "nbformat_minor": 0,
  "metadata": {
    "colab": {
      "provenance": [],
      "authorship_tag": "ABX9TyNteAAQ32CVBROACmkw1jjL",
      "include_colab_link": true
    },
    "kernelspec": {
      "name": "python3",
      "display_name": "Python 3"
    },
    "language_info": {
      "name": "python"
    }
  },
  "cells": [
    {
      "cell_type": "markdown",
      "metadata": {
        "id": "view-in-github",
        "colab_type": "text"
      },
      "source": [
        "<a href=\"https://colab.research.google.com/github/jessicaca0826/Leetcode_Python/blob/main/383_Ransom_Note.ipynb\" target=\"_parent\"><img src=\"https://colab.research.google.com/assets/colab-badge.svg\" alt=\"Open In Colab\"/></a>"
      ]
    },
    {
      "cell_type": "markdown",
      "source": [
        "Given two strings ransomNote and magazine, return true if ransomNote can be constructed by using the letters from magazine and false otherwise.\n",
        "Each letter in magazine can only be used once in ransomNote.\n",
        "\n",
        "\n",
        "\n",
        "Example 1:\n",
        "\n",
        "Input: ransomNote = \"a\", magazine = \"b\"\n",
        "\n",
        "Output: false\n",
        "\n",
        "Example 2:\n",
        "\n",
        "Input: ransomNote = \"aa\", magazine = \"ab\"\n",
        "\n",
        "Output: false\n",
        "\n",
        "Example 3:\n",
        "\n",
        "Input: ransomNote = \"aa\", magazine = \"aab\"\n",
        "\n",
        "Output: true"
      ],
      "metadata": {
        "id": "9erGb-y3JYPP"
      }
    },
    {
      "cell_type": "code",
      "source": [
        "# sol 1\n",
        "def canConstruct(ransomNote, magazine):\n",
        "  rasomNote_cnt={}\n",
        "  magazine_cnt={}\n",
        "  for s in magazine:\n",
        "    if s in magazine_cnt:\n",
        "      magazine_cnt[s]+=1\n",
        "    else:\n",
        "      magazine_cnt[s]=1\n",
        "  for s in ransomNote:\n",
        "    if s not in magazine_cnt:\n",
        "      return False\n",
        "    else:\n",
        "      if s in rasomNote_cnt:\n",
        "        rasomNote_cnt[s]+=1\n",
        "      else:\n",
        "        rasomNote_cnt[s]=1\n",
        "    if rasomNote_cnt[s]>magazine_cnt[s]:\n",
        "      return False\n",
        "  return True\n",
        "\n",
        "print(canConstruct('a', 'b'))\n",
        "print(canConstruct('aa', 'ab'))\n",
        "print(canConstruct('aa', 'aab'))"
      ],
      "metadata": {
        "colab": {
          "base_uri": "https://localhost:8080/"
        },
        "id": "QUIKL-EsJjh4",
        "outputId": "11f40bc0-176b-4db4-d695-4472d8770264"
      },
      "execution_count": 4,
      "outputs": [
        {
          "output_type": "stream",
          "name": "stdout",
          "text": [
            "False\n",
            "False\n",
            "True\n"
          ]
        }
      ]
    },
    {
      "cell_type": "code",
      "source": [
        "def canConstruct(ransomNote, magazine):\n",
        "  magazine_cnt={}\n",
        "  for s in magazine:\n",
        "    if s in magazine_cnt:\n",
        "      magazine_cnt[s]+=1\n",
        "    else:\n",
        "      magazine_cnt[s]=1\n",
        "  for s in ransomNote:\n",
        "    if s not in magazine_cnt or magazine_cnt[s]-1<0:\n",
        "      return False\n",
        "    magazine_cnt[s]-=1\n",
        "  return True\n",
        "\n",
        "print(canConstruct('a', 'b'))\n",
        "print(canConstruct('aa', 'ab'))\n",
        "print(canConstruct('aa', 'aab'))"
      ],
      "metadata": {
        "colab": {
          "base_uri": "https://localhost:8080/"
        },
        "id": "24JIR22EPIjq",
        "outputId": "8e13bdf2-89cc-4b94-ea3a-eee79395ac7a"
      },
      "execution_count": 6,
      "outputs": [
        {
          "output_type": "stream",
          "name": "stdout",
          "text": [
            "False\n",
            "False\n",
            "True\n"
          ]
        }
      ]
    },
    {
      "cell_type": "code",
      "source": [
        "def canConstruct(ransomNote, magazine):\n",
        "  ransomNote_cnt={s:ransomNote.count(s) for s in set(ransomNote)}\n",
        "  for s in ransomNote_cnt:\n",
        "    if s not in magazine or ransomNote_cnt[s]>magazine.count(s):\n",
        "      return False\n",
        "  return True\n",
        "\n",
        "print(canConstruct('a', 'b'))\n",
        "print(canConstruct('aa', 'ab'))\n",
        "print(canConstruct('aa', 'aab'))"
      ],
      "metadata": {
        "colab": {
          "base_uri": "https://localhost:8080/"
        },
        "id": "cEGgHSqjPIh7",
        "outputId": "f6f4a96f-40f2-4b0d-84c5-17765b667228"
      },
      "execution_count": 10,
      "outputs": [
        {
          "output_type": "stream",
          "name": "stdout",
          "text": [
            "False\n",
            "False\n",
            "True\n"
          ]
        }
      ]
    }
  ]
}