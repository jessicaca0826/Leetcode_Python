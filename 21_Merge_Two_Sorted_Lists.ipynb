{
  "nbformat": 4,
  "nbformat_minor": 0,
  "metadata": {
    "colab": {
      "provenance": [],
      "authorship_tag": "ABX9TyPjM20j9fvIWflz/w2JpXNA",
      "include_colab_link": true
    },
    "kernelspec": {
      "name": "python3",
      "display_name": "Python 3"
    },
    "language_info": {
      "name": "python"
    }
  },
  "cells": [
    {
      "cell_type": "markdown",
      "metadata": {
        "id": "view-in-github",
        "colab_type": "text"
      },
      "source": [
        "<a href=\"https://colab.research.google.com/github/jessicaca0826/Leetcode_Python/blob/main/21_Merge_Two_Sorted_Lists.ipynb\" target=\"_parent\"><img src=\"https://colab.research.google.com/assets/colab-badge.svg\" alt=\"Open In Colab\"/></a>"
      ]
    },
    {
      "cell_type": "markdown",
      "source": [
        "You are given the heads of two sorted linked lists list1 and list2.\n",
        "\n",
        "Merge the two lists into one sorted list. The list should be made by splicing together the nodes of the first two lists.\n",
        "\n",
        "Return the head of the merged linked list.\n",
        "\n",
        "Example 1:\n",
        "\n",
        "Input: list1 = [1,2,4], list2 = [1,3,4]\n",
        "\n",
        "Output: [1,1,2,3,4,4]\n",
        "\n",
        "Example 2:\n",
        "\n",
        "Input: list1 = [], list2 = []\n",
        "\n",
        "Output: []\n",
        "\n",
        "Example 3:\n",
        "\n",
        "Input: list1 = [], list2 = [0]\n",
        "\n",
        "Output: [0]"
      ],
      "metadata": {
        "id": "E3-ItvWtZioz"
      }
    },
    {
      "cell_type": "code",
      "execution_count": 10,
      "metadata": {
        "id": "zPEIxmyBZehT",
        "colab": {
          "base_uri": "https://localhost:8080/"
        },
        "outputId": "6ee1c71f-cf69-4d82-a404-060d55429b10"
      },
      "outputs": [
        {
          "output_type": "stream",
          "name": "stdout",
          "text": [
            "1\n",
            "1\n",
            "2\n",
            "3\n",
            "4\n",
            "4\n"
          ]
        }
      ],
      "source": [
        "\n",
        "class ListNode:\n",
        "  def __init__(self,val=0,next=None):\n",
        "    self.val=val\n",
        "    self.next=next\n",
        "\n",
        "\n",
        "def mergeTwoLists(list1,list2):\n",
        "  merge=ListNode()\n",
        "  point=merge\n",
        "\n",
        "  while list1 and list2:\n",
        "    if list1.val>list2.val:\n",
        "      point.next=list2\n",
        "      list2=list2.next\n",
        "    else:\n",
        "      point.next=list1\n",
        "      list1=list1.next\n",
        "    point=point.next\n",
        "\n",
        "  if list1:\n",
        "    point.next=list1\n",
        "  elif list2:\n",
        "    point.next=list2\n",
        "\n",
        "  return merge.next\n",
        "\n",
        "def createListNode(l):\n",
        "  result=ListNode()\n",
        "  point=result\n",
        "  for i in l:\n",
        "    point.next=ListNode(i)\n",
        "    point=point.next\n",
        "  return result.next\n",
        "\n",
        "list1=createListNode([1,2,4])\n",
        "list2=createListNode([1,3,4])\n",
        "\n",
        "result=mergeTwoLists(list1,list2)\n",
        "while result:\n",
        "  print(result.val)\n",
        "  result=result.next"
      ]
    }
  ]
}